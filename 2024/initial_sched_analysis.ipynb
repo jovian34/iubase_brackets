{
 "cells": [
  {
   "cell_type": "code",
   "execution_count": null,
   "metadata": {},
   "outputs": [],
   "source": [
    "import pandas as pd\n"
   ]
  },
  {
   "cell_type": "code",
   "execution_count": null,
   "metadata": {},
   "outputs": [],
   "source": [
    "pd.set_option('display.max_columns', None)"
   ]
  },
  {
   "cell_type": "code",
   "execution_count": null,
   "metadata": {},
   "outputs": [],
   "source": [
    "rpi = pd.read_csv(\"../2023/rpi.csv\", index_col=False)"
   ]
  },
  {
   "cell_type": "code",
   "execution_count": null,
   "metadata": {},
   "outputs": [],
   "source": [
    "rpi.columns"
   ]
  },
  {
   "cell_type": "code",
   "execution_count": null,
   "metadata": {},
   "outputs": [],
   "source": [
    "rpi_cols = [\n",
    "    \"RPI\",\n",
    "    \"Record\",\n",
    "    \"Team\"\n",
    "]"
   ]
  },
  {
   "cell_type": "code",
   "execution_count": null,
   "metadata": {},
   "outputs": [],
   "source": [
    "rpi = rpi.loc[:, rpi_cols]"
   ]
  },
  {
   "cell_type": "code",
   "execution_count": null,
   "metadata": {},
   "outputs": [],
   "source": [
    "rpi.head()"
   ]
  },
  {
   "cell_type": "code",
   "execution_count": null,
   "metadata": {},
   "outputs": [],
   "source": [
    "temp_df = rpi[\"Team\"].str.split(\n",
    "    pat=\"  \",\n",
    "    n=1,\n",
    "    expand=True\n",
    ")"
   ]
  },
  {
   "cell_type": "code",
   "execution_count": null,
   "metadata": {},
   "outputs": [],
   "source": [
    "rpi[\"conf_rec\"] = temp_df[1]\n",
    "rpi[\"Team\"] = temp_df[0]"
   ]
  },
  {
   "cell_type": "code",
   "execution_count": null,
   "metadata": {},
   "outputs": [],
   "source": [
    "rpi = rpi.drop([\"conf_rec\"], axis=1)"
   ]
  },
  {
   "cell_type": "code",
   "execution_count": null,
   "metadata": {},
   "outputs": [],
   "source": [
    "rpi = rpi[rpi[\"RPI\"] != \"RPI\"]"
   ]
  },
  {
   "cell_type": "code",
   "execution_count": null,
   "metadata": {},
   "outputs": [],
   "source": [
    "rpi.head(50)"
   ]
  },
  {
   "cell_type": "code",
   "execution_count": null,
   "metadata": {},
   "outputs": [],
   "source": [
    "def make_record_list(record: str) -> list:\n",
    "    rec_list = record.split(\"-\")\n",
    "    return rec_list"
   ]
  },
  {
   "cell_type": "code",
   "execution_count": null,
   "metadata": {},
   "outputs": [],
   "source": [
    "rpi[\"Record\"] = rpi[\"Record\"].apply(make_record_list)\n",
    "rpi.head()"
   ]
  },
  {
   "cell_type": "code",
   "execution_count": null,
   "metadata": {},
   "outputs": [],
   "source": [
    "def get_wins(record: list) -> int:\n",
    "    return record[0]\n",
    "\n",
    "def get_losses(record: list) -> int:\n",
    "    return record[1]\n",
    "\n",
    "def get_ties(record: list) -> int:\n",
    "    if len(record) > 2:\n",
    "        return record[2]\n",
    "    else:\n",
    "        return 0"
   ]
  },
  {
   "cell_type": "code",
   "execution_count": null,
   "metadata": {},
   "outputs": [],
   "source": [
    "rpi[\"wins\"] = rpi[\"Record\"].apply(get_wins)\n",
    "rpi[\"losses\"] = rpi[\"Record\"].apply(get_losses)\n",
    "rpi[\"ties\"] = rpi[\"Record\"].apply(get_ties)\n",
    "\n",
    "rpi = rpi.drop([\"Record\"], axis=1)\n",
    "\n",
    "rpi.head()"
   ]
  },
  {
   "cell_type": "code",
   "execution_count": null,
   "metadata": {},
   "outputs": [],
   "source": [
    "def get_wins_ties(w, t):\n",
    "    return float(w) + 0.5 * float(t)\n",
    "\n",
    "def get_losses_ties(l, t):\n",
    "    return float(l) + 0.5 * float(t)"
   ]
  },
  {
   "cell_type": "code",
   "execution_count": null,
   "metadata": {},
   "outputs": [],
   "source": [
    "rpi[\"wins\"] = rpi.apply(lambda team: get_wins_ties(team[\"wins\"], team[\"ties\"]), axis=1)\n",
    "rpi[\"losses\"] = rpi.apply(lambda team: get_losses_ties(team[\"losses\"], team[\"ties\"]), axis=1)\n",
    "\n",
    "rpi = rpi.drop([\"ties\"], axis=1)\n",
    "\n",
    "rpi.head(50)"
   ]
  },
  {
   "cell_type": "code",
   "execution_count": null,
   "metadata": {},
   "outputs": [],
   "source": [
    "rpi.head()"
   ]
  },
  {
   "cell_type": "code",
   "execution_count": null,
   "metadata": {},
   "outputs": [],
   "source": [
    "sos = pd.read_csv(\"../2023/sos.csv\", index_col=False)"
   ]
  },
  {
   "cell_type": "code",
   "execution_count": null,
   "metadata": {},
   "outputs": [],
   "source": [
    "sos.head(50)"
   ]
  },
  {
   "cell_type": "code",
   "execution_count": null,
   "metadata": {},
   "outputs": [],
   "source": [
    "def get_opp_record_list(opp_record: str) -> list:\n",
    "    return opp_record.split(\"-\")"
   ]
  },
  {
   "cell_type": "code",
   "execution_count": null,
   "metadata": {},
   "outputs": [],
   "source": [
    "sos[\"Opp Record\"] = sos[\"Opp Record\"].apply(get_opp_record_list)"
   ]
  },
  {
   "cell_type": "code",
   "execution_count": null,
   "metadata": {},
   "outputs": [],
   "source": [
    "def get_opp_wins(opp_record: list) -> float:\n",
    "    return float(opp_record[0])\n",
    "\n",
    "def get_opp_losses(opp_record: list) -> float:\n",
    "    return float(opp_record[1])"
   ]
  },
  {
   "cell_type": "code",
   "execution_count": null,
   "metadata": {},
   "outputs": [],
   "source": [
    "sos[\"opp_wins\"] = sos[\"Opp Record\"].apply(get_opp_wins)\n",
    "sos[\"opp_losses\"] = sos[\"Opp Record\"].apply(get_opp_losses)\n",
    "\n",
    "sos = sos.drop([\"Unnamed: 0\", \"Opp Record\"], axis=1)\n",
    "sos.head(50)"
   ]
  },
  {
   "cell_type": "code",
   "execution_count": null,
   "metadata": {},
   "outputs": [],
   "source": [
    "def make_string(value):\n",
    "    return str(value)"
   ]
  },
  {
   "cell_type": "code",
   "execution_count": null,
   "metadata": {},
   "outputs": [],
   "source": [
    "rpi[\"Team\"] = rpi[\"Team\"].apply(make_string)\n",
    "sos[\"Team\"] = sos[\"Team\"].apply(make_string)"
   ]
  },
  {
   "cell_type": "code",
   "execution_count": null,
   "metadata": {},
   "outputs": [],
   "source": [
    "rpi_sos = rpi.merge(sos, on=\"Team\", how='inner')\n",
    "\n",
    "rpi_sos.head(50)"
   ]
  },
  {
   "cell_type": "code",
   "execution_count": null,
   "metadata": {},
   "outputs": [],
   "source": [
    "rpi_sos = rpi_sos.sort_values(\"Team\")\n",
    "\n",
    "rpi_sos.head(50)\n",
    "\n",
    "rpi_sos.to_csv(\"2023_rpi_sos.csv\")"
   ]
  },
  {
   "cell_type": "code",
   "execution_count": null,
   "metadata": {},
   "outputs": [],
   "source": []
  }
 ],
 "metadata": {
  "kernelspec": {
   "display_name": ".venv",
   "language": "python",
   "name": "python3"
  },
  "language_info": {
   "codemirror_mode": {
    "name": "ipython",
    "version": 3
   },
   "file_extension": ".py",
   "mimetype": "text/x-python",
   "name": "python",
   "nbconvert_exporter": "python",
   "pygments_lexer": "ipython3",
   "version": "3.12.0"
  }
 },
 "nbformat": 4,
 "nbformat_minor": 2
}
